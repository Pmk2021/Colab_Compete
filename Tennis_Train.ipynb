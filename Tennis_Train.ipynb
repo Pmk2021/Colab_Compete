{
 "cells": [
  {
   "cell_type": "markdown",
   "metadata": {},
   "source": [
    "# Collaboration and Competition\n",
    "\n",
    "---\n",
    "\n",
    "In this notebook, you will learn how to use the Unity ML-Agents environment for the third project of the [Deep Reinforcement Learning Nanodegree](https://www.udacity.com/course/deep-reinforcement-learning-nanodegree--nd893) program.\n",
    "\n",
    "### 1. Start the Environment\n",
    "\n",
    "We begin by importing the necessary packages.  If the code cell below returns an error, please revisit the project instructions to double-check that you have installed [Unity ML-Agents](https://github.com/Unity-Technologies/ml-agents/blob/master/docs/Installation.md) and [NumPy](http://www.numpy.org/)."
   ]
  },
  {
   "cell_type": "code",
   "execution_count": 2,
   "metadata": {},
   "outputs": [],
   "source": [
    "from unityagents import UnityEnvironment\n",
    "import numpy as np"
   ]
  },
  {
   "cell_type": "markdown",
   "metadata": {},
   "source": [
    "Next, we will start the environment!  **_Before running the code cell below_**, change the `file_name` parameter to match the location of the Unity environment that you downloaded.\n",
    "\n",
    "- **Mac**: `\"path/to/Tennis.app\"`\n",
    "- **Windows** (x86): `\"path/to/Tennis_Windows_x86/Tennis.exe\"`\n",
    "- **Windows** (x86_64): `\"path/to/Tennis_Windows_x86_64/Tennis.exe\"`\n",
    "- **Linux** (x86): `\"path/to/Tennis_Linux/Tennis.x86\"`\n",
    "- **Linux** (x86_64): `\"path/to/Tennis_Linux/Tennis.x86_64\"`\n",
    "- **Linux** (x86, headless): `\"path/to/Tennis_Linux_NoVis/Tennis.x86\"`\n",
    "- **Linux** (x86_64, headless): `\"path/to/Tennis_Linux_NoVis/Tennis.x86_64\"`\n",
    "\n",
    "For instance, if you are using a Mac, then you downloaded `Tennis.app`.  If this file is in the same folder as the notebook, then the line below should appear as follows:\n",
    "```\n",
    "env = UnityEnvironment(file_name=\"Tennis.app\")\n",
    "```"
   ]
  },
  {
   "cell_type": "code",
   "execution_count": 3,
   "metadata": {},
   "outputs": [
    {
     "name": "stderr",
     "output_type": "stream",
     "text": [
      "INFO:unityagents:\n",
      "'Academy' started successfully!\n",
      "Unity Academy name: Academy\n",
      "        Number of Brains: 1\n",
      "        Number of External Brains : 1\n",
      "        Lesson number : 0\n",
      "        Reset Parameters :\n",
      "\t\t\n",
      "Unity brain name: TennisBrain\n",
      "        Number of Visual Observations (per agent): 0\n",
      "        Vector Observation space type: continuous\n",
      "        Vector Observation space size (per agent): 8\n",
      "        Number of stacked Vector Observation: 3\n",
      "        Vector Action space type: continuous\n",
      "        Vector Action space size (per agent): 2\n",
      "        Vector Action descriptions: , \n"
     ]
    }
   ],
   "source": [
    "env = UnityEnvironment(file_name=\"Tennis_Windows_x86_64/Tennis.exe\")"
   ]
  },
  {
   "cell_type": "markdown",
   "metadata": {},
   "source": [
    "Environments contain **_brains_** which are responsible for deciding the actions of their associated agents. Here we check for the first brain available, and set it as the default brain we will be controlling from Python."
   ]
  },
  {
   "cell_type": "code",
   "execution_count": 4,
   "metadata": {},
   "outputs": [],
   "source": [
    "# get the default brain\n",
    "brain_name = env.brain_names[0]\n",
    "brain = env.brains[brain_name]"
   ]
  },
  {
   "cell_type": "markdown",
   "metadata": {},
   "source": [
    "### 2. Examine the State and Action Spaces\n",
    "\n",
    "In this environment, two agents control rackets to bounce a ball over a net. If an agent hits the ball over the net, it receives a reward of +0.1.  If an agent lets a ball hit the ground or hits the ball out of bounds, it receives a reward of -0.01.  Thus, the goal of each agent is to keep the ball in play.\n",
    "\n",
    "The observation space consists of 8 variables corresponding to the position and velocity of the ball and racket. Two continuous actions are available, corresponding to movement toward (or away from) the net, and jumping. \n",
    "\n",
    "Run the code cell below to print some information about the environment."
   ]
  },
  {
   "cell_type": "code",
   "execution_count": 5,
   "metadata": {},
   "outputs": [
    {
     "name": "stdout",
     "output_type": "stream",
     "text": [
      "Number of agents: 2\n",
      "Size of each action: 2\n",
      "There are 2 agents. Each observes a state with length: 24\n",
      "The state for the first agent looks like: [ 0.          0.          0.          0.          0.          0.\n",
      "  0.          0.          0.          0.          0.          0.\n",
      "  0.          0.          0.          0.         -6.65278625 -1.5\n",
      " -0.          0.          6.83172083  6.         -0.          0.        ]\n"
     ]
    }
   ],
   "source": [
    "# reset the environment\n",
    "env_info = env.reset(train_mode=True)[brain_name]\n",
    "\n",
    "# number of agents \n",
    "num_agents = len(env_info.agents)\n",
    "print('Number of agents:', num_agents)\n",
    "\n",
    "# size of each action\n",
    "action_size = brain.vector_action_space_size\n",
    "print('Size of each action:', action_size)\n",
    "\n",
    "# examine the state space \n",
    "states = env_info.vector_observations\n",
    "state_size = states.shape[1]\n",
    "print('There are {} agents. Each observes a state with length: {}'.format(states.shape[0], state_size))\n",
    "print('The state for the first agent looks like:', states[0])"
   ]
  },
  {
   "cell_type": "markdown",
   "metadata": {},
   "source": [
    "### 3. Take Random Actions in the Environment\n",
    "\n",
    "In the next code cell, you will learn how to use the Python API to control the agents and receive feedback from the environment.\n",
    "\n",
    "Once this cell is executed, you will watch the agents' performance, if they select actions at random with each time step.  A window should pop up that allows you to observe the agents.\n",
    "\n",
    "Of course, as part of the project, you'll have to change the code so that the agents are able to use their experiences to gradually choose better actions when interacting with the environment!"
   ]
  },
  {
   "cell_type": "markdown",
   "metadata": {},
   "source": [
    "When finished, you can close the environment."
   ]
  },
  {
   "cell_type": "code",
   "execution_count": null,
   "metadata": {},
   "outputs": [],
   "source": []
  },
  {
   "cell_type": "markdown",
   "metadata": {},
   "source": [
    "### 4. It's Your Turn!\n",
    "\n",
    "Now it's your turn to train your own agent to solve the environment!  When training the environment, set `train_mode=True`, so that the line for resetting the environment looks like the following:\n",
    "```python\n",
    "env_info = env.reset(train_mode=True)[brain_name]\n",
    "```"
   ]
  },
  {
   "cell_type": "code",
   "execution_count": 693,
   "metadata": {},
   "outputs": [],
   "source": [
    "import torch \n",
    "import torch.nn as nn\n",
    "import torch.nn.functional as F\n",
    "import numpy as np\n",
    "import matplotlib.pyplot as plt\n",
    "from copy import deepcopy\n",
    "import torch.optim as optim\n",
    "from random import randint\n",
    "import statistics\n",
    "import torch.distributions as tdist"
   ]
  },
  {
   "cell_type": "code",
   "execution_count": 694,
   "metadata": {},
   "outputs": [],
   "source": [
    "def prepro(x):\n",
    "    return torch.from_numpy(x).float()"
   ]
  },
  {
   "cell_type": "code",
   "execution_count": 766,
   "metadata": {},
   "outputs": [],
   "source": [
    "class Policy_Net(nn.Module):\n",
    "    def __init__(self):\n",
    "        super(Policy_Net, self).__init__()\n",
    "        self.l1 = nn.Linear(24,64)\n",
    "        self.l2 = nn.Linear(64,64)\n",
    "        self.l3 = nn.Linear(64,2)\n",
    "\n",
    "    def forward(self, state):\n",
    "        state = F.relu(self.l1(state))\n",
    "        state = F.relu(self.l2(state))\n",
    "        state = F.tanh(self.l3(state))\n",
    "        return state\n",
    "\n",
    "    \n",
    "policy=Policy_Net()\n",
    "optimizer = optim.Adam(policy.parameters(), lr=0.0001)\n",
    "scheduler = optim.lr_scheduler.StepLR(optimizer, 0.9999)\n",
    "\n",
    "policy_1=policy\n",
    "optimizer_1 = optim.Adam(policy.parameters(), lr=0.0001)\n"
   ]
  },
  {
   "cell_type": "code",
   "execution_count": 767,
   "metadata": {},
   "outputs": [],
   "source": [
    "class Critic_Net(nn.Module):\n",
    "    def __init__(self):\n",
    "        super(Critic_Net, self).__init__()\n",
    "        self.l1 = nn.Linear(48,128)\n",
    "        self.l2 = nn.Linear(128,128)\n",
    "        self.l3 = nn.Linear(128,2)\n",
    "\n",
    "    def forward(self, state):\n",
    "        state = F.relu(self.l1(state))\n",
    "        state = F.relu(self.l2(state))\n",
    "        state = F.tanh(self.l3(state))\n",
    "        return state\n",
    "    \n",
    "\n",
    "value_function=Critic_Net()\n",
    "optimizer_critic = optim.Adam(value_function.parameters(), lr=0.001)"
   ]
  },
  {
   "cell_type": "code",
   "execution_count": 768,
   "metadata": {},
   "outputs": [],
   "source": [
    "def get_advantage(rewards, critic, states, l = .96):\n",
    "  value_est = critic(states)\n",
    "  value_est_0 = value_est[:-1]\n",
    "  value_est_1 = value_est[1:]\n",
    "  rewards = torch.tensor(rewards)\n",
    "  advantage = rewards[:-1] + discount_rate * value_est_1 - value_est_0\n",
    "  advantage = torch.cat((advantage,(rewards[-1]).view(1,2)))\n",
    "  return advantage"
   ]
  },
  {
   "cell_type": "code",
   "execution_count": 769,
   "metadata": {},
   "outputs": [],
   "source": [
    "def critic_loss(rewards, critic, states):\n",
    "  value_est = critic(states)\n",
    "  rewards = torch.tensor(rewards)\n",
    "  return torch.mean((value_est-rewards)**2)"
   ]
  },
  {
   "cell_type": "code",
   "execution_count": 770,
   "metadata": {},
   "outputs": [],
   "source": [
    "def clipped_surrogate(policy, old_probs, states, actions, rewards,\n",
    "                      discount, epsilon, var, actor):\n",
    "\n",
    "    rewards = rewards[:,actor].view(-1,1)\n",
    "    # convert states to policy (or probability)\n",
    "    new_total_probs = policy(states)\n",
    "    dist = tdist.multivariate_normal.MultivariateNormal(new_total_probs, torch.eye(2) * var)\n",
    "    new_probs = dist.log_prob(actions)\n",
    "\n",
    "    ratio = torch.exp(new_probs-old_probs)\n",
    "    \n",
    "    clipped_loss = torch.where(ratio > torch.tensor(1+epsilon), torch.tensor(1+epsilon), ratio)\n",
    "    clipped_loss = torch.where(clipped_loss < torch.tensor(1-epsilon),  torch.tensor(1-epsilon), clipped_loss)\n",
    "    clipped_loss = torch.min(ratio * rewards, clipped_loss * rewards)\n",
    "    #return torch.mean(torch.clamp(new_probs/old_probs * rewards, 1-epsilon * rewards, 1+epsilon * rewards))\n",
    "\n",
    "    \n",
    "    return torch.mean(clipped_loss)\n"
   ]
  },
  {
   "cell_type": "code",
   "execution_count": 771,
   "metadata": {},
   "outputs": [],
   "source": [
    "def collect_trajectories(env, policy, policy_1, Max_Time, var, training_mode = True):\n",
    "  env_info = env.reset(train_mode=training_mode)[brain_name]\n",
    "  s0 = prepro(env_info.vector_observations)\n",
    "  states = list()\n",
    "  actions = list()\n",
    "  rewards = list()\n",
    "  old_probs = list()\n",
    "\n",
    "  states_1 = list()\n",
    "  actions_1 = list()\n",
    "  rewards_1 = list()\n",
    "  old_probs_1 = list()\n",
    "    \n",
    "  \n",
    "  for step in range(Max_Time):\n",
    "    if 1 == 0:\n",
    "      action = 0\n",
    "    else:\n",
    "      #Gets Action\n",
    "      probs = policy((s0[0]-states_mean)/states_std)\n",
    "      probs = tdist.multivariate_normal.MultivariateNormal(probs, torch.eye(2) * var)\n",
    "    \n",
    "                                                           \n",
    "      probs_1 = policy_1((s0[1]-states_mean)/states_std)\n",
    "      probs_1 = tdist.multivariate_normal.MultivariateNormal(probs_1, torch.eye(2) * var)\n",
    "    \n",
    "      action = probs.sample()\n",
    "      action_1 = probs_1.sample()\n",
    "                                                           \n",
    "      probs = probs.log_prob(action)\n",
    "      probs_1 = probs_1.log_prob(action_1)\n",
    "                                                           \n",
    "      #Does Action\n",
    "    env_info = env.step((torch.stack((torch.clamp(action,-1,1),torch.clamp(action_1,-1,1)),0).detach().numpy()))[brain_name]           # send all actions to tne environment\n",
    "    state = env_info.vector_observations         # get next state (for each agent)\n",
    "    reward = env_info.rewards                         # get reward (for each agent)\n",
    "    done = env_info.local_done       \n",
    "    #Adds to experience\n",
    "    state = prepro(state)\n",
    "    if step > -1:\n",
    "      states.append(s0[0])\n",
    "      actions.append(action)\n",
    "      rewards.append(reward)\n",
    "      old_probs.append(probs)\n",
    "                                                           \n",
    "      states_1.append(s0[1])\n",
    "      actions_1.append(action_1)\n",
    "      rewards_1.append(reward)\n",
    "      old_probs_1.append(probs_1)   \n",
    "    s0 = state\n",
    "    if np.any(done):\n",
    "      break\n",
    "  scores = deepcopy(rewards)\n",
    "  discount_scores = torch.tensor(deepcopy(rewards))\n",
    "  #rewards = torch.tensor(rewards)\n",
    "  rewards = get_advantage(rewards, value_function,  torch.cat((torch.stack(states),torch.stack(states_1)),1))\n",
    "  for i in reversed(range(len(rewards)-1)):\n",
    "    rewards[i] += discount_rate *0.95* rewards[i + 1]\n",
    "    discount_scores[i] += discount_rate  * discount_scores[i+1]\n",
    "    #if len(advantage_rewards[-1][i:]) > horizon_len:\n",
    "    #  advantage_rewards[-1][i] += -1 *  advantage_rewards[-1][i + horizon_len - 1] * discount**horizon_len \n",
    "  #advantage_rewards[-1] = advantage_rewards[-1][:-horizon_len]   \n",
    "  rewards = deepcopy(discount_scores)\n",
    "  return old_probs, old_probs_1, states, states_1, actions, actions_1, rewards, scores, discount_scores"
   ]
  },
  {
   "cell_type": "code",
   "execution_count": null,
   "metadata": {},
   "outputs": [
    {
     "name": "stderr",
     "output_type": "stream",
     "text": [
      "C:\\Users\\pmuralikrishnan\\Anaconda3\\envs\\drlnd\\lib\\site-packages\\ipykernel_launcher.py:3: UserWarning: To copy construct from a tensor, it is recommended to use sourceTensor.clone().detach() or sourceTensor.clone().detach().requires_grad_(True), rather than torch.tensor(sourceTensor).\n",
      "  This is separate from the ipykernel package so we can avoid doing imports until\n"
     ]
    },
    {
     "name": "stdout",
     "output_type": "stream",
     "text": [
      "50 game average: 0.023800\n",
      "0.023800000362098218\n",
      "50 game average: 0.017000\n",
      "0.02040000032633543\n",
      "50 game average: 0.025000\n",
      "0.021933333687484263\n",
      "50 game average: 0.019800\n",
      "0.02140000034123659\n",
      "50 game average: 0.017400\n",
      "0.020600000329315662\n",
      "50 game average: 0.033400\n",
      "0.02273333369443814\n",
      "50 game average: 0.015000\n",
      "0.021628571775342737\n",
      "50 game average: 0.025000\n",
      "0.022050000354647638\n",
      "50 game average: 0.009600\n",
      "0.020666666999459266\n",
      "50 game average: 0.025400\n",
      "0.021140000339597464\n",
      "50 game average: 0.026800\n",
      "0.02165454580363902\n",
      "50 game average: 0.017600\n",
      "0.021316667009765904\n",
      "50 game average: 0.012000\n",
      "0.020600000330461905\n",
      "50 game average: 0.013600\n",
      "0.020100000322397265\n",
      "50 game average: 0.004000\n",
      "0.019026666971544426\n",
      "50 game average: 0.019400\n",
      "0.01905000030528754\n",
      "50 game average: 0.025400\n",
      "0.019423529722673052\n",
      "50 game average: 0.021600\n",
      "0.01954444475678934\n",
      "50 game average: 0.021200\n",
      "0.019631579261469214\n",
      "50 game average: 0.031200\n",
      "0.020210000324994325\n",
      "50 game average: 0.013600\n",
      "0.019895238415116357\n",
      "50 game average: 0.023400\n",
      "0.0200545457767492\n",
      "50 game average: 0.033400\n",
      "0.020634782939501432\n",
      "50 game average: 0.032800\n",
      "0.021141667009020846\n",
      "50 game average: 0.016000\n",
      "0.020936000338196755\n",
      "50 game average: 0.026000\n",
      "0.02113076957085958\n"
     ]
    }
   ],
   "source": [
    "import numpy as np\n",
    "\n",
    "episode = 10000\n",
    "discount_rate = .99\n",
    "epsilon = 1.0\n",
    "var = 1.0\n",
    "tmax = 1000\n",
    "SGD_epoch = 10\n",
    "SGD_epoch_2 = 30\n",
    "num_traj = 50\n",
    "batch_size = 32\n",
    "\n",
    "# keep track of progress\n",
    "mean_rewards = []\n",
    "\n",
    "for e in range(episode):\n",
    "\n",
    "    # collect trajectories\n",
    "    train_var = var\n",
    "    old_probs, old_probs_1, states, states_1, actions, actions_1, rewards, scores, discount_scores = list(),list(),list(), list(), list(), list(), torch.tensor(list()) ,list(), torch.tensor(list())\n",
    "    for traj in range(num_traj):\n",
    "      old_probs_, old_probs_1_, states_, states_1_, actions_, actions_1_, rewards_, scores_, discount_scores_ = collect_trajectories(env, policy, policy_1, tmax, var)\n",
    "      \n",
    "      old_probs = old_probs + old_probs_\n",
    "      states = states + states_       \n",
    "      actions = actions + actions_\n",
    "        \n",
    "      old_probs_1 = old_probs_1 + old_probs_1_\n",
    "      states_1 = states_1 + states_1_\n",
    "      actions_1 = actions_1 + actions_1_\n",
    "\n",
    "      rewards = torch.cat((rewards,rewards_))\n",
    "      discount_scores = torch.cat((discount_scores,discount_scores_))\n",
    "      scores = scores + scores_\n",
    "      mean_rewards.append(np.max(sum(np.array(scores_))))\n",
    "    #old_probs, states, actions, rewards, scores = collect_trajectories(env, policy, tmax)\n",
    "        \n",
    "    #Normalize Rewards\n",
    "    \n",
    "\n",
    "    states_mean = (torch.mean(torch.stack(states),0) + 3 * states_mean)/4\n",
    "    states_std = (torch.std(torch.stack(states),0) + 3 * states_std)/4\n",
    "    #states = (torch.stack(states)-states_mean)/(states_std+0.0000001)\n",
    "    states = (torch.stack(states)-states_mean)/states_std\n",
    "    #states_1_mean = torch.mean(torch.stack(states_1),0)\n",
    "    #states_1_std = torch.std(torch.stack(states_1),0)\n",
    "    #states_1 = (torch.stack(states_1)-states_1_mean)/(states_1_std+0.0000001)\n",
    "    states_1 = (torch.stack(states_1)-states_mean)/states_std\n",
    "    rewards_mean = 0\n",
    "    rewards_std = 1\n",
    "    rewards_mean = torch.tensor([torch.mean(rewards[:,0]),torch.mean(rewards[:,1])])\n",
    "    rewards_std = torch.tensor([torch.std(rewards[:,0]),torch.std(rewards[:,1])])\n",
    "    rewards = [(i-rewards_mean)/(rewards_std+0.0001) for i in rewards]\n",
    "\n",
    "    total_rewards = np.sum(scores, axis=0)/num_traj\n",
    "    \n",
    "    actions = torch.stack(actions)\n",
    "    old_probs = torch.tensor(old_probs)\n",
    "    rewards = torch.stack(rewards)\n",
    "    actions_1 = torch.stack(actions_1)\n",
    "    old_probs_1 = torch.tensor(old_probs_1)\n",
    "\n",
    "    \n",
    "    # gradient ascent step\n",
    "    for _ in range(SGD_epoch):\n",
    "        \n",
    "        permutation = torch.randperm(len(states))\n",
    "\n",
    "        for i in range(0,len(states), batch_size):\n",
    "\n",
    "\n",
    "            indices = permutation[i:i+batch_size]\n",
    "            old_probs_batch, states_batch,actions_batch,rewards_batch = old_probs[indices], states[indices],actions[indices],rewards[indices]\n",
    "\n",
    "            L = -clipped_surrogate(policy, old_probs_batch, states_batch, actions_batch, rewards_batch, discount_rate, epsilon, var, 0)\n",
    "\n",
    "            optimizer.zero_grad()\n",
    "            L.backward(retain_graph=True)\n",
    "            torch.nn.utils.clip_grad_norm_(policy.parameters(), 3.0)\n",
    "            optimizer.step()\n",
    "            del L\n",
    "        \n",
    "    for _ in range(SGD_epoch):\n",
    "\n",
    "        permutation = torch.randperm(len(states))\n",
    "\n",
    "        for i in range(0,len(states), batch_size):\n",
    "\n",
    "\n",
    "            indices = permutation[i:i+batch_size]\n",
    "            old_probs_batch, states_batch,actions_batch,rewards_batch = old_probs_1[indices], states_1[indices],actions_1[indices],rewards[indices]\n",
    "\n",
    "            L_1 = -clipped_surrogate(policy_1, old_probs_batch, states_batch, actions_batch, rewards_batch, discount_rate, epsilon, var, 1)\n",
    "\n",
    "       \n",
    "\n",
    "            optimizer_1.zero_grad()\n",
    "            L_1.backward(retain_graph=True)\n",
    "            torch.nn.utils.clip_grad_norm_(policy_1.parameters(), 3.0)\n",
    "            optimizer_1.step()\n",
    "            del L_1\n",
    "    \n",
    "    for _ in range(SGD_epoch_2):\n",
    "        \n",
    "        permutation = torch.randperm(len(discount_scores))\n",
    "        \n",
    "        for i in range(0,len(states), batch_size):\n",
    "            indices = permutation[i:i+batch_size]\n",
    "            states_1_batch, states_batch, scores_batch =  states_1[indices],states[indices],discount_scores[indices]\n",
    "\n",
    "            # uncomment to utilize your own clipped function!\n",
    "            L = critic_loss(scores_batch, value_function, torch.cat((states_batch,states_1_batch),1))\n",
    "\n",
    "            optimizer_critic.zero_grad()\n",
    "            L.backward()\n",
    "            optimizer_critic.step()\n",
    "            del L\n",
    "    \n",
    "    # the clipping parameter reduces as time goes on\n",
    "    epsilon*=.9999\n",
    "    \n",
    "    # the regulation term also reduces\n",
    "    # this reduces exploration in later runs\n",
    "    if var > 0.2:\n",
    "        var*=0.9995\n",
    "    \n",
    "    # get the average reward of the parallel environments\n",
    "    \n",
    "    # display some progress every 20 iterations\n",
    "    if ((e+1)*num_traj)%50 ==0 :\n",
    "        print(\"50 game average: {1:f}\".format((e+1)*num_traj,np.mean(mean_rewards[-50:])))\n",
    "        print(np.mean(mean_rewards))\n",
    "        SGD_epoch_2 = 30\n",
    "        if len(mean_rewards) > 200 and np.mean(mean_rewards[-100:]) >= 0.5:\n",
    "            print('done')\n",
    "            break\n",
    "        "
   ]
  },
  {
   "cell_type": "code",
   "execution_count": 732,
   "metadata": {},
   "outputs": [
    {
     "data": {
      "text/plain": [
       "[<matplotlib.lines.Line2D at 0x22905d7a898>]"
      ]
     },
     "execution_count": 732,
     "metadata": {},
     "output_type": "execute_result"
    },
    {
     "data": {
      "image/png": "[encoded data removed]",
      "text/plain": [
       "<Figure size 432x288 with 1 Axes>"
      ]
     },
     "metadata": {
      "needs_background": "light"
     },
     "output_type": "display_data"
    }
   ],
   "source": [
    "plt.plot([np.mean(mean_rewards[i:i+100]) for i in range(len(mean_rewards[:-100:]))])"
   ]
  },
  {
   "cell_type": "code",
   "execution_count": 737,
   "metadata": {},
   "outputs": [
    {
     "data": {
      "text/plain": [
       "0.1"
      ]
     },
     "execution_count": 737,
     "metadata": {},
     "output_type": "execute_result"
    }
   ],
   "source": [
    "var"
   ]
  },
  {
   "cell_type": "code",
   "execution_count": 765,
   "metadata": {},
   "outputs": [],
   "source": [
    "#Running trained Agent\n",
    "for i in range(5):\n",
    "    old_probs_, old_probs_1_, states_, states_1_, actions_, actions_1_, rewards_, scores_,a = collect_trajectories(env, policy, policy_1, tmax, 0.001, training_mode=False)"
   ]
  },
  {
   "cell_type": "code",
   "execution_count": 629,
   "metadata": {},
   "outputs": [
    {
     "data": {
      "text/plain": [
       "tensor([-0.2128, -1.2912,  0.4544, -0.5880,  1.2794,  1.3196,  0.4544, -0.5880,\n",
       "        -0.9202, -1.3651, -1.5929, -0.8868,  1.1796,  1.0772, -1.5929, -0.8868,\n",
       "        -1.5168, -1.5654, -0.1508, -0.3401,  1.1283,  0.9233, -0.1508, -0.3401])"
      ]
     },
     "execution_count": 629,
     "metadata": {},
     "output_type": "execute_result"
    }
   ],
   "source": [
    "states_1_batch[0]"
   ]
  },
  {
   "cell_type": "code",
   "execution_count": 659,
   "metadata": {},
   "outputs": [
    {
     "data": {
      "text/plain": [
       "tensor([  6.2152, -30.0000,   5.9411,  -7.0216,   6.2152, -30.0000,  -0.9832,\n",
       "        -10.2356,   0.0000,  -0.0000,   6.0000,  -7.0216,   0.0000,  -0.0000,\n",
       "         -1.5000,  -7.2356,   0.0000,   0.0000,   0.0000,   0.0000,   0.0000,\n",
       "          0.0000,   0.0000,   0.0000])"
      ]
     },
     "execution_count": 659,
     "metadata": {},
     "output_type": "execute_result"
    }
   ],
   "source": [
    "states_[0]"
   ]
  },
  {
   "cell_type": "code",
   "execution_count": 660,
   "metadata": {},
   "outputs": [
    {
     "data": {
      "text/plain": [
       "tensor([ 0.0000,  0.0000,  0.0000,  0.0000,  0.0000,  0.0000,  0.0000,  0.0000,\n",
       "        -6.1311, -1.5000,  0.0000,  0.0000,  7.0216,  6.0000,  0.0000,  0.0000,\n",
       "        -6.0593, -0.9832,  0.7176,  6.2152,  7.0216,  5.9411,  0.7176,  6.2152])"
      ]
     },
     "execution_count": 660,
     "metadata": {},
     "output_type": "execute_result"
    }
   ],
   "source": [
    "states_1_[0]"
   ]
  },
  {
   "cell_type": "code",
   "execution_count": null,
   "metadata": {},
   "outputs": [],
   "source": []
  },
  {
   "cell_type": "code",
   "execution_count": null,
   "metadata": {},
   "outputs": [],
   "source": []
  },
  {
   "cell_type": "code",
   "execution_count": null,
   "metadata": {},
   "outputs": [],
   "source": []
  },
  {
   "cell_type": "code",
   "execution_count": null,
   "metadata": {},
   "outputs": [],
   "source": []
  },
  {
   "cell_type": "code",
   "execution_count": null,
   "metadata": {},
   "outputs": [],
   "source": []
  },
  {
   "cell_type": "code",
   "execution_count": null,
   "metadata": {},
   "outputs": [],
   "source": []
  }
 ],
 "metadata": {
  "kernelspec": {
   "display_name": "drlnd",
   "language": "python",
   "name": "drlnd"
  }
 },
 "nbformat": 4,
 "nbformat_minor": 2
}
